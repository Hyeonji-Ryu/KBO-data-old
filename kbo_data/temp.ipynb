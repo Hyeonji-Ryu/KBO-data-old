{
 "cells": [
  {
   "cell_type": "code",
   "execution_count": 22,
   "id": "76bcea3a",
   "metadata": {},
   "outputs": [],
   "source": [
    "import json"
   ]
  },
  {
   "cell_type": "code",
   "execution_count": 6,
   "id": "a092a600",
   "metadata": {},
   "outputs": [],
   "source": [
    "import parsing_game_schedule"
   ]
  },
  {
   "cell_type": "code",
   "execution_count": 7,
   "id": "2855d5e4",
   "metadata": {},
   "outputs": [],
   "source": [
    "today_schedule = {'year': '2021', 'date': '08.11', 1: {'away': 'SK', 'home': 'LG', 'state': '18:30', 'suspended': '0'}, 2: {'away': 'OB', 'home': 'SS', 'state': '18:30', 'suspended': '0'}, 3: {'away': 'LT', 'home': 'NC', 'state': '18:30', 'suspended': '0'}, 4: {'away': 'KT', 'home': 'WO', 'state': '18:30', 'suspended': '0'}, 5: {'away': 'HH', 'home': 'HT', 'state': '18:30', 'suspended': '0'}}"
   ]
  },
  {
   "cell_type": "code",
   "execution_count": 8,
   "id": "b7465d1f",
   "metadata": {},
   "outputs": [],
   "source": [
    "game_schedule = parsing_game_schedule.changing_format(today_schedule)"
   ]
  },
  {
   "cell_type": "code",
   "execution_count": 9,
   "id": "c4c2a726",
   "metadata": {},
   "outputs": [
    {
     "data": {
      "text/plain": [
       "[{'gameDate': '20210811', 'gameld': 'SKLG0', 'state': '18:30'},\n",
       " {'gameDate': '20210811', 'gameld': 'OBSS0', 'state': '18:30'},\n",
       " {'gameDate': '20210811', 'gameld': 'LTNC0', 'state': '18:30'},\n",
       " {'gameDate': '20210811', 'gameld': 'KTWO0', 'state': '18:30'},\n",
       " {'gameDate': '20210811', 'gameld': 'HHHT0', 'state': '18:30'}]"
      ]
     },
     "execution_count": 9,
     "metadata": {},
     "output_type": "execute_result"
    }
   ],
   "source": [
    "game_schedule"
   ]
  },
  {
   "cell_type": "code",
   "execution_count": 17,
   "id": "a82745d4",
   "metadata": {},
   "outputs": [],
   "source": [
    "data_20210810 = {'year': '2021', 'date': '08.10', 1: {'away': 'SK', 'home': 'LG', 'state': '종료', 'suspended': '0'}, 2: {'away': 'OB', 'home': 'SS', 'state': '취소', 'suspended': '0'}, 3: {'away': 'LT', 'home': 'NC', 'state': '종료', 'suspended': '0'}, 4: {'away': 'KT', 'home': 'WO', 'state': '종료', 'suspended': '0'}, 5: {'away': 'HH', 'home': 'HT', 'state': '종료', 'suspended': '0'}}"
   ]
  },
  {
   "cell_type": "code",
   "execution_count": 18,
   "id": "88907645",
   "metadata": {},
   "outputs": [],
   "source": [
    "def making_file_name(data):\n",
    "    \"\"\"\n",
    "    KBO game schedule 날짜가 들어 있는 파일 이름을 만드는 함수\n",
    "    \"\"\"\n",
    "    return (\"KBO_schedule_\" + data['year'] + \".json\")"
   ]
  },
  {
   "cell_type": "code",
   "execution_count": 20,
   "id": "af3a167a",
   "metadata": {},
   "outputs": [],
   "source": [
    "file_name = making_file_name(data_20210810)"
   ]
  },
  {
   "cell_type": "code",
   "execution_count": 23,
   "id": "b0344176",
   "metadata": {},
   "outputs": [],
   "source": [
    "with open(file_name, \"w\") as outfile:\n",
    "            json.dump(data_20210810, outfile)"
   ]
  },
  {
   "cell_type": "code",
   "execution_count": null,
   "id": "dc3b90b6",
   "metadata": {},
   "outputs": [],
   "source": []
  }
 ],
 "metadata": {
  "kernelspec": {
   "display_name": "Python 3",
   "language": "python",
   "name": "python3"
  },
  "language_info": {
   "codemirror_mode": {
    "name": "ipython",
    "version": 3
   },
   "file_extension": ".py",
   "mimetype": "text/x-python",
   "name": "python",
   "nbconvert_exporter": "python",
   "pygments_lexer": "ipython3",
   "version": "3.9.1"
  }
 },
 "nbformat": 4,
 "nbformat_minor": 5
}
